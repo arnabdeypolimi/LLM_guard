{
 "cells": [
  {
   "cell_type": "markdown",
   "id": "257fc210",
   "metadata": {},
   "source": [
    "# Setup & Environment Notes\n",
    "\n",
    "This notebook includes quick links and optional helpers for running on Colab or Modal Notebooks.\n",
    "\n",
    "### Google Colab\n",
    "- Go to **Runtime → Change runtime type → GPU** (optional)\n",
    "- Free tier sessions can run up to ~12 hours, after which the runtime may disconnect.\n",
    "\n",
    "### Modal Notebooks\n",
    "- Create an account and open a Notebook. Starter plan includes $30/month in free compute credits.\n",
    "- You can select CPU or GPU kernels and keep environments between sessions.\n"
   ]
  },
  {
   "cell_type": "code",
   "execution_count": null,
   "id": "b11d5ba7",
   "metadata": {},
   "outputs": [],
   "source": [
    "# Example: verify Python and basic libs\n",
    "import sys, platform\n",
    "print(sys.version)\n",
    "print(platform.platform())\n"
   ]
  }
 ],
 "metadata": {
  "kernelspec": {
   "display_name": "Python 3",
   "language": "python",
   "name": "python3"
  }
 },
 "nbformat": 4,
 "nbformat_minor": 5
}
